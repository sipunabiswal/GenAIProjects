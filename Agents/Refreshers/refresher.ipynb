{
 "cells": [
  {
   "cell_type": "code",
   "execution_count": 1,
   "id": "66867a28",
   "metadata": {},
   "outputs": [],
   "source": [
    "from dotenv import load_dotenv"
   ]
  },
  {
   "cell_type": "code",
   "execution_count": 2,
   "id": "aa7829f1",
   "metadata": {},
   "outputs": [
    {
     "data": {
      "text/plain": [
       "True"
      ]
     },
     "execution_count": 2,
     "metadata": {},
     "output_type": "execute_result"
    }
   ],
   "source": [
    "load_dotenv(override=True)"
   ]
  },
  {
   "cell_type": "code",
   "execution_count": 3,
   "id": "9452cadc",
   "metadata": {},
   "outputs": [
    {
     "name": "stdout",
     "output_type": "stream",
     "text": [
      "OPENAI_API_KEY is set\n"
     ]
    }
   ],
   "source": [
    "import os\n",
    "\n",
    "api_key = os.getenv(\"OPENAI_API_KEY\")\n",
    "if not api_key:\n",
    "    raise ValueError(\"OPENAI_API_KEY is not set\")\n",
    "else:\n",
    "    print(\"OPENAI_API_KEY is set\")\n",
    "\n"
   ]
  },
  {
   "cell_type": "code",
   "execution_count": 5,
   "id": "47f4339f",
   "metadata": {},
   "outputs": [],
   "source": [
    "from openai import OpenAI\n"
   ]
  },
  {
   "cell_type": "code",
   "execution_count": 12,
   "id": "b969fc24",
   "metadata": {},
   "outputs": [],
   "source": [
    "openai_client = OpenAI(api_key=api_key)"
   ]
  },
  {
   "cell_type": "code",
   "execution_count": 7,
   "id": "5fd5b218",
   "metadata": {},
   "outputs": [],
   "source": [
    "messages=[{\"role\": \"system\", \"content\": \"You are a helpful assistant.\"}]"
   ]
  },
  {
   "cell_type": "code",
   "execution_count": 15,
   "id": "d7277ae5",
   "metadata": {},
   "outputs": [
    {
     "name": "stdout",
     "output_type": "stream",
     "text": [
      "How can I assist you today?\n"
     ]
    }
   ],
   "source": [
    "\n",
    "responses = openai_client.chat.completions.create(\n",
    "    model='gpt-4o-mini',\n",
    "    messages=messages,\n",
    ")\n",
    "\n",
    "print(responses.choices[0].message.content)"
   ]
  },
  {
   "cell_type": "code",
   "execution_count": 18,
   "id": "ecc960b1",
   "metadata": {},
   "outputs": [
    {
     "name": "stdout",
     "output_type": "stream",
     "text": [
      "Absolutely! Here’s another brain teaser for you:\n",
      "\n",
      "**Question:**\n",
      "\n",
      "I am taken from a mine, and once you put me in a bowl, I can elevate your thinking. What am I?\n",
      "\n",
      "**Take your time to think about it, and let me know if you want the answer!**\n"
     ]
    }
   ],
   "source": [
    "messages.append({\"role\": \"user\", \"content\": \"Think of an brain teaser question.\"})\n",
    "responses = openai_client.chat.completions.create(\n",
    "    model='gpt-4o-mini',\n",
    "    messages=messages,\n",
    ")\n",
    "\n",
    "question = responses.choices[0].message.content\n",
    "print(question)"
   ]
  },
  {
   "cell_type": "code",
   "execution_count": 20,
   "id": "c1fe38a0",
   "metadata": {},
   "outputs": [
    {
     "name": "stdout",
     "output_type": "stream",
     "text": [
      "The answer to the brain teaser is \"pencil lead\" (graphite). \n",
      "\n",
      "Graphite is mined, and when it is used in a pencil and put to paper (figuratively 'in a bowl'), it helps you elevate your thinking by allowing you to write or draw ideas.\n"
     ]
    }
   ],
   "source": [
    "messages.append({\"role\": \"user\", \"content\": \"Solve the question: \" + question})\n",
    "responses = openai_client.chat.completions.create(\n",
    "    model='gpt-4o-mini',\n",
    "    messages=messages,\n",
    ")\n",
    "\n",
    "answer = responses.choices[0].message.content\n",
    "print(answer)\n",
    "\n"
   ]
  }
 ],
 "metadata": {
  "kernelspec": {
   "display_name": "Python 3",
   "language": "python",
   "name": "python3"
  },
  "language_info": {
   "codemirror_mode": {
    "name": "ipython",
    "version": 3
   },
   "file_extension": ".py",
   "mimetype": "text/x-python",
   "name": "python",
   "nbconvert_exporter": "python",
   "pygments_lexer": "ipython3",
   "version": "3.13.1"
  }
 },
 "nbformat": 4,
 "nbformat_minor": 5
}
