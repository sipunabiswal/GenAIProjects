{
 "cells": [
  {
   "cell_type": "code",
   "execution_count": 1,
   "id": "c6fccc3f",
   "metadata": {},
   "outputs": [],
   "source": [
    "import os\n",
    "from dotenv import load_dotenv\n",
    "from openai import OpenAI\n"
   ]
  },
  {
   "cell_type": "code",
   "execution_count": 3,
   "id": "93c410b3",
   "metadata": {},
   "outputs": [
    {
     "data": {
      "text/plain": [
       "True"
      ]
     },
     "execution_count": 3,
     "metadata": {},
     "output_type": "execute_result"
    }
   ],
   "source": [
    "load_dotenv(override=True)"
   ]
  },
  {
   "cell_type": "code",
   "execution_count": 4,
   "id": "79019f08",
   "metadata": {},
   "outputs": [
    {
     "name": "stdout",
     "output_type": "stream",
     "text": [
      "If you could design a new ethical framework for artificial intelligence that balances innovation and societal values, what core principles would it include and why?\n"
     ]
    }
   ],
   "source": [
    "\n",
    "\n",
    "\n",
    "openai_client = OpenAI(api_key=os.getenv(\"OPENAI_API_KEY\"))\n",
    "\n",
    "\n",
    "requests= \"Please come up with a challenging that can ask a number of llms to evaluate their intelligence.\"\n",
    "requests +='Answer only with the question, no explanation or anything else.'\n",
    "\n",
    "responses = openai_client.chat.completions.create(\n",
    "    model='gpt-4o-mini',\n",
    "    messages=[{\"role\": \"user\", \"content\": requests}]\n",
    ")\n",
    "\n",
    "question = responses.choices[0].message.content\n",
    "print(question)\n",
    "\n",
    "\n",
    "\n"
   ]
  },
  {
   "cell_type": "code",
   "execution_count": 6,
   "id": "119cf88c",
   "metadata": {},
   "outputs": [
    {
     "name": "stdout",
     "output_type": "stream",
     "text": [
      "If I were to design a new ethical framework for artificial intelligence that balances innovation and societal values, I would include the following core principles:\n",
      "\n",
      "1. **Transparency**: Organizations must ensure that AI systems are understandable and their decision-making processes are clear to users and stakeholders. This principle encourages accountability and trust, enabling individuals to comprehend how AI impacts their lives.\n",
      "\n",
      "2. **Fairness and Non-Discrimination**: AI systems should be developed to avoid biases that can lead to unfair treatment of individuals or groups. This principle is essential to promote equality and inclusivity within society, ensuring that AI benefits everyone regardless of their background.\n",
      "\n",
      "3. **Privacy Protection**: AI systems must respect user privacy and secure personal data. This principle safeguards individuals' rights and fosters trust in AI technologies, as people are more likely to engage with AI systems they believe will protect their information.\n",
      "\n",
      "4. **Safety and Reliability**: AI systems should be designed to operate safely and consistently. This principle emphasizes the importance of robust, secure, and resilient AI that minimizes risks and unintended consequences for users and society.\n",
      "\n",
      "5. **Human-Centric Design**: AI should enhance human capabilities and promote well-being rather than replace humans or compromise their autonomy. This principle ensures that AI technologies are aligned with human values and priorities, emphasizing that technology should serve humanity.\n",
      "\n",
      "6. **Accountability**: Developers and organizations must be held responsible for the impacts of their AI systems. This principle promotes a culture of responsibility and encourages ongoing assessment of AI’s societal effects, driving improvements and corrective actions where necessary.\n",
      "\n",
      "7. **Societal Benefit**: AI innovations should aim to contribute positively to society, addressing pressing global challenges such as climate change, healthcare access, and education. This principle ensures that technology serves the greater good and aligns with shared societal goals.\n",
      "\n",
      "8. **Adaptability and Continuous Improvement**: The framework should allow for iterative learning and adaptation as technology and societal norms evolve. This principle promotes flexibility in policy and practice, ensuring that the ethical considerations remain relevant and effective over time.\n",
      "\n",
      "Including these core principles would create a comprehensive ethical framework that prioritizes innovation while respecting and promoting societal values, leading to the responsible development and deployment of AI technologies.\n"
     ]
    }
   ],
   "source": [
    "Model_name = 'gpt-4o-mini'\n",
    "messages = [{\"role\":\"system\", \"content\":\"answer the question based on the context provided\"+ question}]\n",
    "responses=openai_client.chat.completions.create(model=Model_name, messages=messages)\n",
    "\n",
    "answer= responses.choices[0].message.content\n",
    "\n",
    "print(answer)\n",
    "\n",
    "\n",
    "\n",
    "\n",
    "\n"
   ]
  }
 ],
 "metadata": {
  "kernelspec": {
   "display_name": "Python 3",
   "language": "python",
   "name": "python3"
  },
  "language_info": {
   "codemirror_mode": {
    "name": "ipython",
    "version": 3
   },
   "file_extension": ".py",
   "mimetype": "text/x-python",
   "name": "python",
   "nbconvert_exporter": "python",
   "pygments_lexer": "ipython3",
   "version": "3.13.1"
  }
 },
 "nbformat": 4,
 "nbformat_minor": 5
}
